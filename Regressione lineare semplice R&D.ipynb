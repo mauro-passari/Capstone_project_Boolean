{
 "cells": [
  {
   "cell_type": "code",
   "execution_count": 1,
   "id": "61993a60-92c2-4036-adfa-9a7517f757e3",
   "metadata": {},
   "outputs": [],
   "source": [
    "import pandas as pd\n",
    "import numpy as np\n",
    "import matplotlib\n",
    "import matplotlib.pyplot as plt\n",
    "import seaborn as sns\n",
    "import requests\n",
    "import os "
   ]
  },
  {
   "cell_type": "code",
   "execution_count": 3,
   "id": "c4ed190f-e5bf-4bea-b33f-f696a84fe7f5",
   "metadata": {},
   "outputs": [
    {
     "name": "stdout",
     "output_type": "stream",
     "text": [
      "<class 'pandas.core.frame.DataFrame'>\n",
      "RangeIndex: 9 entries, 0 to 8\n",
      "Data columns (total 21 columns):\n",
      " #   Column                                                                     Non-Null Count  Dtype \n",
      "---  ------                                                                     --------------  ----- \n",
      " 0   Country                                                                    9 non-null      object\n",
      " 1   Year                                                                       9 non-null      int64 \n",
      " 2   R&D                                                                        9 non-null      object\n",
      " 3   Acts involving the movement of dumping of waste                            8 non-null      object\n",
      " 4   Acts that cause environmental pollution or degradation                     7 non-null      object\n",
      " 5   Acts that result in the depletion of degradation of natural resources      6 non-null      object\n",
      " 6   Burglary                                                                   8 non-null      object\n",
      " 7   Corruption                                                                 9 non-null      object\n",
      " 8   Corruption: Bribery                                                        9 non-null      object\n",
      " 9   Corruption: Other acts of corruption                                       9 non-null      object\n",
      " 10  Fraud                                                                      9 non-null      object\n",
      " 11  Fraud: Cyber-related (Cy)                                                  9 non-null      object\n",
      " 12  Money laundering                                                           9 non-null      object\n",
      " 13  Smuggling of migrants                                                      9 non-null      object\n",
      " 14  Theft                                                                      9 non-null      object\n",
      " 15  Theft: of a motorized vehicle                                              9 non-null      object\n",
      " 16  Trade or possession of protected or prohibited species of faune and flora  8 non-null      object\n",
      " 17  Unlawful access to a computer system                                       8 non-null      object\n",
      " 18  Unlawful interception or access of computer data                           8 non-null      object\n",
      " 19  Unlawful interference with a computer system or computer data              8 non-null      object\n",
      " 20  Acts against public safety and state security                              8 non-null      object\n",
      "dtypes: int64(1), object(20)\n",
      "memory usage: 1.6+ KB\n"
     ]
    }
   ],
   "source": [
    "df = pd.read_csv('filtered_data_pivot.csv', sep=';')\n",
    "df.info()"
   ]
  },
  {
   "cell_type": "code",
   "execution_count": 12,
   "id": "31354add-e8ca-474b-a7f5-bb43cd922d58",
   "metadata": {},
   "outputs": [
    {
     "data": {
      "text/plain": [
       "Index(['Country', 'Year', 'R&D',\n",
       "       'Acts involving the movement of dumping of waste',\n",
       "       'Acts that cause environmental pollution or degradation',\n",
       "       'Acts that result in the depletion of degradation of natural resources',\n",
       "       'Burglary', 'Corruption', 'Corruption: Bribery',\n",
       "       'Corruption: Other acts of corruption', 'Fraud',\n",
       "       'Fraud: Cyber-related (Cy)', 'Money laundering',\n",
       "       'Smuggling of migrants', 'Theft', 'Theft: of a motorized vehicle',\n",
       "       'Trade or possession of protected or prohibited species of faune and flora',\n",
       "       'Unlawful access to a computer system',\n",
       "       'Unlawful interception or access of computer data',\n",
       "       'Unlawful interference with a computer system or computer data',\n",
       "       'Acts against public safety and state security', 'Cyber_crimes'],\n",
       "      dtype='object')"
      ]
     },
     "execution_count": 12,
     "metadata": {},
     "output_type": "execute_result"
    }
   ],
   "source": [
    "df.columns"
   ]
  },
  {
   "cell_type": "code",
   "execution_count": 60,
   "id": "e48b8e9a-ed5d-4a9f-9f51-0eb6a15a4861",
   "metadata": {},
   "outputs": [
    {
     "name": "stdout",
     "output_type": "stream",
     "text": [
      "<class 'pandas.core.frame.DataFrame'>\n",
      "Index: 8 entries, 0 to 7\n",
      "Data columns (total 22 columns):\n",
      " #   Column                                                                     Non-Null Count  Dtype  \n",
      "---  ------                                                                     --------------  -----  \n",
      " 0   Country                                                                    8 non-null      object \n",
      " 1   Year                                                                       8 non-null      int64  \n",
      " 2   R&D                                                                        8 non-null      float64\n",
      " 3   Acts involving the movement of dumping of waste                            8 non-null      object \n",
      " 4   Acts that cause environmental pollution or degradation                     7 non-null      object \n",
      " 5   Acts that result in the depletion of degradation of natural resources      6 non-null      object \n",
      " 6   Burglary                                                                   7 non-null      object \n",
      " 7   Corruption                                                                 8 non-null      object \n",
      " 8   Corruption: Bribery                                                        8 non-null      object \n",
      " 9   Corruption: Other acts of corruption                                       8 non-null      object \n",
      " 10  Fraud                                                                      8 non-null      object \n",
      " 11  Fraud: Cyber-related (Cy)                                                  8 non-null      int64  \n",
      " 12  Money laundering                                                           8 non-null      object \n",
      " 13  Smuggling of migrants                                                      8 non-null      object \n",
      " 14  Theft                                                                      8 non-null      object \n",
      " 15  Theft: of a motorized vehicle                                              8 non-null      object \n",
      " 16  Trade or possession of protected or prohibited species of faune and flora  8 non-null      object \n",
      " 17  Unlawful access to a computer system                                       8 non-null      object \n",
      " 18  Unlawful interception or access of computer data                           8 non-null      object \n",
      " 19  Unlawful interference with a computer system or computer data              8 non-null      object \n",
      " 20  Acts against public safety and state security                              8 non-null      int64  \n",
      " 21  Cyber_crimes                                                               8 non-null      int64  \n",
      "dtypes: float64(1), int64(4), object(17)\n",
      "memory usage: 1.4+ KB\n"
     ]
    }
   ],
   "source": [
    "#df['Acts against public safety and state security'] = df['Acts against public safety and state security'].str.replace(',','.')\n",
    "#df['Fraud: Cyber-related (Cy)'] = df['Fraud: Cyber-related (Cy)'].str.replace(',','.')\n",
    "#df[['Acts against public safety and state security','Fraud: Cyber-related (Cy)']] = df[['Acts against public safety and state security','Fraud: Cyber-related (Cy)']].astype('int64')\n",
    "#df['R&D']=df['R&D'].str.replace(',','.')\n",
    "df['R&D']=df['R&D'].astype('float')\n",
    "df.info()"
   ]
  },
  {
   "cell_type": "code",
   "execution_count": 38,
   "id": "57ceb891-8f5a-4db8-9c52-065db0590382",
   "metadata": {},
   "outputs": [
    {
     "name": "stdout",
     "output_type": "stream",
     "text": [
      "<class 'pandas.core.frame.DataFrame'>\n",
      "Index: 8 entries, 0 to 7\n",
      "Data columns (total 22 columns):\n",
      " #   Column                                                                     Non-Null Count  Dtype \n",
      "---  ------                                                                     --------------  ----- \n",
      " 0   Country                                                                    8 non-null      object\n",
      " 1   Year                                                                       8 non-null      int64 \n",
      " 2   R&D                                                                        8 non-null      object\n",
      " 3   Acts involving the movement of dumping of waste                            8 non-null      object\n",
      " 4   Acts that cause environmental pollution or degradation                     7 non-null      object\n",
      " 5   Acts that result in the depletion of degradation of natural resources      6 non-null      object\n",
      " 6   Burglary                                                                   7 non-null      object\n",
      " 7   Corruption                                                                 8 non-null      object\n",
      " 8   Corruption: Bribery                                                        8 non-null      object\n",
      " 9   Corruption: Other acts of corruption                                       8 non-null      object\n",
      " 10  Fraud                                                                      8 non-null      object\n",
      " 11  Fraud: Cyber-related (Cy)                                                  8 non-null      int64 \n",
      " 12  Money laundering                                                           8 non-null      object\n",
      " 13  Smuggling of migrants                                                      8 non-null      object\n",
      " 14  Theft                                                                      8 non-null      object\n",
      " 15  Theft: of a motorized vehicle                                              8 non-null      object\n",
      " 16  Trade or possession of protected or prohibited species of faune and flora  8 non-null      object\n",
      " 17  Unlawful access to a computer system                                       8 non-null      object\n",
      " 18  Unlawful interception or access of computer data                           8 non-null      object\n",
      " 19  Unlawful interference with a computer system or computer data              8 non-null      object\n",
      " 20  Acts against public safety and state security                              8 non-null      int64 \n",
      " 21  Cyber_crimes                                                               8 non-null      int64 \n",
      "dtypes: int64(4), object(18)\n",
      "memory usage: 1.4+ KB\n"
     ]
    }
   ],
   "source": [
    "df['Cyber_crimes'] = df['Fraud: Cyber-related (Cy)'] + df['Acts against public safety and state security']\n"
   ]
  },
  {
   "cell_type": "code",
   "execution_count": 56,
   "id": "e66c5ab7-13d4-4668-bd7b-3777bef7604e",
   "metadata": {},
   "outputs": [
    {
     "data": {
      "text/html": [
       "<div>\n",
       "<style scoped>\n",
       "    .dataframe tbody tr th:only-of-type {\n",
       "        vertical-align: middle;\n",
       "    }\n",
       "\n",
       "    .dataframe tbody tr th {\n",
       "        vertical-align: top;\n",
       "    }\n",
       "\n",
       "    .dataframe thead th {\n",
       "        text-align: right;\n",
       "    }\n",
       "</style>\n",
       "<table border=\"1\" class=\"dataframe\">\n",
       "  <thead>\n",
       "    <tr style=\"text-align: right;\">\n",
       "      <th></th>\n",
       "      <th>Year</th>\n",
       "      <th>R&amp;D</th>\n",
       "      <th>Acts against public safety and state security</th>\n",
       "      <th>Cyber_crimes</th>\n",
       "      <th>Fraud: Cyber-related (Cy)</th>\n",
       "    </tr>\n",
       "  </thead>\n",
       "  <tbody>\n",
       "    <tr>\n",
       "      <th>0</th>\n",
       "      <td>2014</td>\n",
       "      <td>34.5</td>\n",
       "      <td>10385</td>\n",
       "      <td>33927</td>\n",
       "      <td>23542</td>\n",
       "    </tr>\n",
       "    <tr>\n",
       "      <th>1</th>\n",
       "      <td>2015</td>\n",
       "      <td>35.6</td>\n",
       "      <td>8898</td>\n",
       "      <td>35276</td>\n",
       "      <td>26378</td>\n",
       "    </tr>\n",
       "    <tr>\n",
       "      <th>2</th>\n",
       "      <td>2016</td>\n",
       "      <td>48.0</td>\n",
       "      <td>9550</td>\n",
       "      <td>42630</td>\n",
       "      <td>33080</td>\n",
       "    </tr>\n",
       "    <tr>\n",
       "      <th>3</th>\n",
       "      <td>2017</td>\n",
       "      <td>46.5</td>\n",
       "      <td>9430</td>\n",
       "      <td>55508</td>\n",
       "      <td>46078</td>\n",
       "    </tr>\n",
       "    <tr>\n",
       "      <th>4</th>\n",
       "      <td>2018</td>\n",
       "      <td>45.2</td>\n",
       "      <td>12042</td>\n",
       "      <td>72153</td>\n",
       "      <td>60111</td>\n",
       "    </tr>\n",
       "    <tr>\n",
       "      <th>5</th>\n",
       "      <td>2019</td>\n",
       "      <td>45.5</td>\n",
       "      <td>14915</td>\n",
       "      <td>93458</td>\n",
       "      <td>78543</td>\n",
       "    </tr>\n",
       "    <tr>\n",
       "      <th>6</th>\n",
       "      <td>2020</td>\n",
       "      <td>44.1</td>\n",
       "      <td>17990</td>\n",
       "      <td>116607</td>\n",
       "      <td>98617</td>\n",
       "    </tr>\n",
       "    <tr>\n",
       "      <th>7</th>\n",
       "      <td>2021</td>\n",
       "      <td>45.4</td>\n",
       "      <td>20103</td>\n",
       "      <td>141601</td>\n",
       "      <td>121498</td>\n",
       "    </tr>\n",
       "  </tbody>\n",
       "</table>\n",
       "</div>"
      ],
      "text/plain": [
       "   Year   R&D  Acts against public safety and state security  Cyber_crimes  \\\n",
       "0  2014  34.5                                          10385         33927   \n",
       "1  2015  35.6                                           8898         35276   \n",
       "2  2016  48.0                                           9550         42630   \n",
       "3  2017  46.5                                           9430         55508   \n",
       "4  2018  45.2                                          12042         72153   \n",
       "5  2019  45.5                                          14915         93458   \n",
       "6  2020  44.1                                          17990        116607   \n",
       "7  2021  45.4                                          20103        141601   \n",
       "\n",
       "   Fraud: Cyber-related (Cy)  \n",
       "0                      23542  \n",
       "1                      26378  \n",
       "2                      33080  \n",
       "3                      46078  \n",
       "4                      60111  \n",
       "5                      78543  \n",
       "6                      98617  \n",
       "7                     121498  "
      ]
     },
     "execution_count": 56,
     "metadata": {},
     "output_type": "execute_result"
    }
   ],
   "source": [
    "df[['Year','R&D','Acts against public safety and state security','Cyber_crimes','Fraud: Cyber-related (Cy)']]"
   ]
  },
  {
   "cell_type": "code",
   "execution_count": 63,
   "id": "d298542b-dd1c-4af7-bbd8-b000128f62e7",
   "metadata": {},
   "outputs": [],
   "source": [
    "df_cleaned = df[~pd.isna(df.Cyber_crimes)]"
   ]
  },
  {
   "cell_type": "code",
   "execution_count": 64,
   "id": "06c4302d-ad8d-45e1-95ab-de6539268073",
   "metadata": {},
   "outputs": [],
   "source": [
    "df_cleaned=df_cleaned.iloc[2:]"
   ]
  },
  {
   "cell_type": "code",
   "execution_count": 65,
   "id": "e8c84c08-32e2-4206-a589-7c7c95f69523",
   "metadata": {},
   "outputs": [
    {
     "data": {
      "image/png": "[encoded data removed]",
      "text/plain": [
       "<Figure size 640x480 with 1 Axes>"
      ]
     },
     "metadata": {},
     "output_type": "display_data"
    }
   ],
   "source": [
    "sns.scatterplot(x='R&D', y='Cyber_crimes', data=df_cleaned)\n",
    "plt.show()"
   ]
  },
  {
   "cell_type": "code",
   "execution_count": 66,
   "id": "5d46ee12-2d5c-47e1-b2e8-003714716299",
   "metadata": {},
   "outputs": [],
   "source": [
    "#Regressione lineare\n",
    "import statsmodels.api as sm\n",
    "Y = df['Cyber_crimes']\n",
    "X = df['R&D'] \n",
    "X = sm.add_constant(data=X)   # add a constant to the model\n",
    "model = sm.OLS(endog=Y,exog=X)\n",
    "results = model.fit()"
   ]
  },
  {
   "cell_type": "code",
   "execution_count": 49,
   "id": "181a311c-948a-4469-b643-948b9977f4ba",
   "metadata": {},
   "outputs": [
    {
     "name": "stderr",
     "output_type": "stream",
     "text": [
      "C:\\Users\\Beatrice\\miniconda3\\envs\\Boolean\\Lib\\site-packages\\scipy\\stats\\_axis_nan_policy.py:531: UserWarning: kurtosistest only valid for n>=20 ... continuing anyway, n=8\n",
      "  res = hypotest_fun_out(*samples, **kwds)\n"
     ]
    },
    {
     "data": {
      "text/html": [
       "<table class=\"simpletable\">\n",
       "<caption>OLS Regression Results</caption>\n",
       "<tr>\n",
       "  <th>Dep. Variable:</th>      <td>Cyber_crimes</td>   <th>  R-squared:         </th> <td>   0.213</td>\n",
       "</tr>\n",
       "<tr>\n",
       "  <th>Model:</th>                   <td>OLS</td>       <th>  Adj. R-squared:    </th> <td>   0.082</td>\n",
       "</tr>\n",
       "<tr>\n",
       "  <th>Method:</th>             <td>Least Squares</td>  <th>  F-statistic:       </th> <td>   1.624</td>\n",
       "</tr>\n",
       "<tr>\n",
       "  <th>Date:</th>             <td>Mon, 03 Feb 2025</td> <th>  Prob (F-statistic):</th>  <td> 0.250</td> \n",
       "</tr>\n",
       "<tr>\n",
       "  <th>Time:</th>                 <td>16:57:02</td>     <th>  Log-Likelihood:    </th> <td> -94.632</td>\n",
       "</tr>\n",
       "<tr>\n",
       "  <th>No. Observations:</th>      <td>     8</td>      <th>  AIC:               </th> <td>   193.3</td>\n",
       "</tr>\n",
       "<tr>\n",
       "  <th>Df Residuals:</th>          <td>     6</td>      <th>  BIC:               </th> <td>   193.4</td>\n",
       "</tr>\n",
       "<tr>\n",
       "  <th>Df Model:</th>              <td>     1</td>      <th>                     </th>     <td> </td>   \n",
       "</tr>\n",
       "<tr>\n",
       "  <th>Covariance Type:</th>      <td>nonrobust</td>    <th>                     </th>     <td> </td>   \n",
       "</tr>\n",
       "</table>\n",
       "<table class=\"simpletable\">\n",
       "<tr>\n",
       "    <td></td>       <th>coef</th>     <th>std err</th>      <th>t</th>      <th>P>|t|</th>  <th>[0.025</th>    <th>0.975]</th>  \n",
       "</tr>\n",
       "<tr>\n",
       "  <th>const</th> <td>-8.205e+04</td> <td> 1.23e+05</td> <td>   -0.666</td> <td> 0.530</td> <td>-3.83e+05</td> <td> 2.19e+05</td>\n",
       "</tr>\n",
       "<tr>\n",
       "  <th>R&D</th>   <td> 3618.2057</td> <td> 2838.967</td> <td>    1.274</td> <td> 0.250</td> <td>-3328.496</td> <td> 1.06e+04</td>\n",
       "</tr>\n",
       "</table>\n",
       "<table class=\"simpletable\">\n",
       "<tr>\n",
       "  <th>Omnibus:</th>       <td> 0.483</td> <th>  Durbin-Watson:     </th> <td>   0.434</td>\n",
       "</tr>\n",
       "<tr>\n",
       "  <th>Prob(Omnibus):</th> <td> 0.785</td> <th>  Jarque-Bera (JB):  </th> <td>   0.435</td>\n",
       "</tr>\n",
       "<tr>\n",
       "  <th>Skew:</th>          <td> 0.413</td> <th>  Prob(JB):          </th> <td>   0.804</td>\n",
       "</tr>\n",
       "<tr>\n",
       "  <th>Kurtosis:</th>      <td> 2.211</td> <th>  Cond. No.          </th> <td>    394.</td>\n",
       "</tr>\n",
       "</table><br/><br/>Notes:<br/>[1] Standard Errors assume that the covariance matrix of the errors is correctly specified."
      ],
      "text/latex": [
       "\\begin{center}\n",
       "\\begin{tabular}{lclc}\n",
       "\\toprule\n",
       "\\textbf{Dep. Variable:}    &  Cyber\\_crimes   & \\textbf{  R-squared:         } &     0.213   \\\\\n",
       "\\textbf{Model:}            &       OLS        & \\textbf{  Adj. R-squared:    } &     0.082   \\\\\n",
       "\\textbf{Method:}           &  Least Squares   & \\textbf{  F-statistic:       } &     1.624   \\\\\n",
       "\\textbf{Date:}             & Mon, 03 Feb 2025 & \\textbf{  Prob (F-statistic):} &    0.250    \\\\\n",
       "\\textbf{Time:}             &     16:57:02     & \\textbf{  Log-Likelihood:    } &   -94.632   \\\\\n",
       "\\textbf{No. Observations:} &           8      & \\textbf{  AIC:               } &     193.3   \\\\\n",
       "\\textbf{Df Residuals:}     &           6      & \\textbf{  BIC:               } &     193.4   \\\\\n",
       "\\textbf{Df Model:}         &           1      & \\textbf{                     } &             \\\\\n",
       "\\textbf{Covariance Type:}  &    nonrobust     & \\textbf{                     } &             \\\\\n",
       "\\bottomrule\n",
       "\\end{tabular}\n",
       "\\begin{tabular}{lcccccc}\n",
       "               & \\textbf{coef} & \\textbf{std err} & \\textbf{t} & \\textbf{P$> |$t$|$} & \\textbf{[0.025} & \\textbf{0.975]}  \\\\\n",
       "\\midrule\n",
       "\\textbf{const} &   -8.205e+04  &     1.23e+05     &    -0.666  &         0.530        &    -3.83e+05    &     2.19e+05     \\\\\n",
       "\\textbf{R\\&D}  &    3618.2057  &     2838.967     &     1.274  &         0.250        &    -3328.496    &     1.06e+04     \\\\\n",
       "\\bottomrule\n",
       "\\end{tabular}\n",
       "\\begin{tabular}{lclc}\n",
       "\\textbf{Omnibus:}       &  0.483 & \\textbf{  Durbin-Watson:     } &    0.434  \\\\\n",
       "\\textbf{Prob(Omnibus):} &  0.785 & \\textbf{  Jarque-Bera (JB):  } &    0.435  \\\\\n",
       "\\textbf{Skew:}          &  0.413 & \\textbf{  Prob(JB):          } &    0.804  \\\\\n",
       "\\textbf{Kurtosis:}      &  2.211 & \\textbf{  Cond. No.          } &     394.  \\\\\n",
       "\\bottomrule\n",
       "\\end{tabular}\n",
       "%\\caption{OLS Regression Results}\n",
       "\\end{center}\n",
       "\n",
       "Notes: \\newline\n",
       " [1] Standard Errors assume that the covariance matrix of the errors is correctly specified."
      ],
      "text/plain": [
       "<class 'statsmodels.iolib.summary.Summary'>\n",
       "\"\"\"\n",
       "                            OLS Regression Results                            \n",
       "==============================================================================\n",
       "Dep. Variable:           Cyber_crimes   R-squared:                       0.213\n",
       "Model:                            OLS   Adj. R-squared:                  0.082\n",
       "Method:                 Least Squares   F-statistic:                     1.624\n",
       "Date:                Mon, 03 Feb 2025   Prob (F-statistic):              0.250\n",
       "Time:                        16:57:02   Log-Likelihood:                -94.632\n",
       "No. Observations:                   8   AIC:                             193.3\n",
       "Df Residuals:                       6   BIC:                             193.4\n",
       "Df Model:                           1                                         \n",
       "Covariance Type:            nonrobust                                         \n",
       "==============================================================================\n",
       "                 coef    std err          t      P>|t|      [0.025      0.975]\n",
       "------------------------------------------------------------------------------\n",
       "const      -8.205e+04   1.23e+05     -0.666      0.530   -3.83e+05    2.19e+05\n",
       "R&D         3618.2057   2838.967      1.274      0.250   -3328.496    1.06e+04\n",
       "==============================================================================\n",
       "Omnibus:                        0.483   Durbin-Watson:                   0.434\n",
       "Prob(Omnibus):                  0.785   Jarque-Bera (JB):                0.435\n",
       "Skew:                           0.413   Prob(JB):                        0.804\n",
       "Kurtosis:                       2.211   Cond. No.                         394.\n",
       "==============================================================================\n",
       "\n",
       "Notes:\n",
       "[1] Standard Errors assume that the covariance matrix of the errors is correctly specified.\n",
       "\"\"\""
      ]
     },
     "execution_count": 49,
     "metadata": {},
     "output_type": "execute_result"
    }
   ],
   "source": []
  },
  {
   "cell_type": "code",
   "execution_count": 67,
   "id": "518cd10e-6e48-407f-adf2-802e8312b552",
   "metadata": {},
   "outputs": [
    {
     "data": {
      "text/plain": [
       "[<matplotlib.lines.Line2D at 0x1c81af1cc80>]"
      ]
     },
     "execution_count": 67,
     "metadata": {},
     "output_type": "execute_result"
    },
    {
     "data": {
      "image/png": "[encoded data removed]",
      "text/plain": [
       "<Figure size 640x480 with 1 Axes>"
      ]
     },
     "metadata": {},
     "output_type": "display_data"
    }
   ],
   "source": [
    "#Assigning intercept and slope from the summary\n",
    "intercept = -8.205e+04\t\n",
    "slope= 3618.2057\n",
    "# plot the data points using a scatter plot\n",
    "sns.scatterplot(x='R&D', y='Cyber_crimes', data=df_cleaned)\n",
    "\n",
    "axes = plt.gca()   # get axes instance of current figure\n",
    "x_vals = np.array(axes.get_xlim())   # get x-axis limits\n",
    "y_vals = intercept + slope * x_vals   # define the equation of the regression line\n",
    "plt.plot(x_vals, y_vals, '--', color='m')   # draw the regression line on top of the scatter plot"
   ]
  },
  {
   "cell_type": "code",
   "execution_count": null,
   "id": "33cf6bf2-d165-49b1-93e6-1821de2cd835",
   "metadata": {},
   "outputs": [],
   "source": [
    "Il modello predittivo è stato scartato per i seguenti motivi:\n",
    "\n",
    "numero troppo esiguo di records\n",
    "conseguenzialmente gli errori relativi sono troppo elevati per considerare una previsione affidabile"
   ]
  }
 ],
 "metadata": {
  "kernelspec": {
   "display_name": "Python 3 (ipykernel)",
   "language": "python",
   "name": "python3"
  },
  "language_info": {
   "codemirror_mode": {
    "name": "ipython",
    "version": 3
   },
   "file_extension": ".py",
   "mimetype": "text/x-python",
   "name": "python",
   "nbconvert_exporter": "python",
   "pygments_lexer": "ipython3",
   "version": "3.12.7"
  }
 },
 "nbformat": 4,
 "nbformat_minor": 5
}
